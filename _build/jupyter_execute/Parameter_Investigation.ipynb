{
 "cells": [
  {
   "cell_type": "markdown",
   "id": "1bdf4558",
   "metadata": {},
   "source": [
    "# Parameter Investigation"
   ]
  },
  {
   "cell_type": "code",
   "execution_count": 3,
   "id": "8c3b0177",
   "metadata": {},
   "outputs": [],
   "source": [
    "import pandas as pd\n",
    "import numpy as np\n",
    "import os\n",
    "import matplotlib.pyplot as plt\n",
    "from functools import reduce\n",
    "data = pd.read_csv('L2 Data Scientist Assessment - Data.csv', dtype = str, encoding = 'cp1252')\n",
    "\n",
    "data['f1'] = data['f1'].astype(float)\n",
    "data['accuracy'] = data['accuracy'].astype(float)\n",
    "\n",
    "background = data[data['class'] == 'Background']\n",
    "tissue = data[data['class'] == 'Tissue']\n",
    "lesions = data[data['class'] == 'Lesions']"
   ]
  },
  {
   "cell_type": "markdown",
   "id": "e2884d0b",
   "metadata": {},
   "source": [
    "Store a list of the model parameters"
   ]
  },
  {
   "cell_type": "code",
   "execution_count": 25,
   "id": "96e3698c",
   "metadata": {},
   "outputs": [],
   "source": [
    "parameters = ['dropoutFraction', 'augmentColor', 'augmentGeometry', 'balanceClasses', 'elasticDeform']\n",
    "dfs = [background, tissue, lesions]"
   ]
  },
  {
   "cell_type": "markdown",
   "id": "072e0ea8",
   "metadata": {},
   "source": [
    "Function to group by Model and Parameter so we can compare the impact on f1 score"
   ]
  },
  {
   "cell_type": "code",
   "execution_count": 26,
   "id": "d963e058",
   "metadata": {},
   "outputs": [],
   "source": [
    "def f1_group(df, param):\n",
    "    return df.groupby(['model',param]).agg({'f1':'mean'}).reset_index().sort_values(by=['f1'], ascending=False)"
   ]
  },
  {
   "cell_type": "markdown",
   "id": "cf5e7c4c",
   "metadata": {},
   "source": [
    "Loop through the parameters and show which model + parameter combinations scored highest"
   ]
  },
  {
   "cell_type": "markdown",
   "id": "402a5e10",
   "metadata": {},
   "source": [
    "# Parameter effect on Lesion Classification"
   ]
  },
  {
   "cell_type": "code",
   "execution_count": 28,
   "id": "e20e6ee5",
   "metadata": {},
   "outputs": [
    {
     "name": "stdout",
     "output_type": "stream",
     "text": [
      "Effect of \"dropoutFraction\" on Lesion Classification\n",
      "\n",
      "            model dropoutFraction        f1\n",
      "5  AE_InceptionV3               0  0.610407\n",
      "6  AE_InceptionV3             0.2  0.600812\n",
      "2         AE_FCN8               0  0.592926\n",
      "0        AE_FCN16               0  0.580614\n",
      "8     AE_Xception             0.2  0.533619\n",
      "3         AE_FCN8             0.2  0.527383\n",
      "1        AE_FCN16             0.2  0.469868\n",
      "7     AE_ResNet50             0.2  0.415154\n",
      "9   DeepLabV3Plus             0.2  0.394629\n",
      "4    AE_Inception             0.2  0.200791\n",
      "\n",
      "Effect of \"augmentColor\" on Lesion Classification\n",
      "\n",
      "             model augmentColor        f1\n",
      "14       Seg_Model        FALSE  0.689420\n",
      "15       Seg_Model         TRUE  0.667295\n",
      "7   AE_InceptionV3         TRUE  0.602410\n",
      "6   AE_InceptionV3        FALSE  0.600480\n",
      "2          AE_FCN8        FALSE  0.588557\n",
      "11     AE_Xception         TRUE  0.564246\n",
      "10     AE_Xception        FALSE  0.561992\n",
      "8      AE_ResNet50        FALSE  0.547993\n",
      "0         AE_FCN16        FALSE  0.518014\n",
      "12   DeepLabV3Plus        FALSE  0.473852\n",
      "3          AE_FCN8         TRUE  0.473663\n",
      "1         AE_FCN16         TRUE  0.451299\n",
      "4     AE_Inception        FALSE  0.399456\n",
      "9      AE_ResNet50         TRUE  0.390809\n",
      "13   DeepLabV3Plus         TRUE  0.117349\n",
      "5     AE_Inception         TRUE  0.002127\n",
      "\n",
      "Effect of \"augmentGeometry\" on Lesion Classification\n",
      "\n",
      "             model augmentGeometry        f1\n",
      "15       Seg_Model            TRUE  0.698797\n",
      "14       Seg_Model           FALSE  0.650329\n",
      "7   AE_InceptionV3            TRUE  0.622613\n",
      "6   AE_InceptionV3           FALSE  0.588972\n",
      "11     AE_Xception            TRUE  0.573835\n",
      "10     AE_Xception           FALSE  0.552564\n",
      "2          AE_FCN8           FALSE  0.533999\n",
      "3          AE_FCN8            TRUE  0.525012\n",
      "0         AE_FCN16           FALSE  0.501092\n",
      "8      AE_ResNet50           FALSE  0.495416\n",
      "1         AE_FCN16            TRUE  0.457102\n",
      "9      AE_ResNet50            TRUE  0.451518\n",
      "13   DeepLabV3Plus            TRUE  0.418922\n",
      "12   DeepLabV3Plus           FALSE  0.375195\n",
      "4     AE_Inception           FALSE  0.266304\n",
      "5     AE_Inception            TRUE  0.004254\n",
      "\n",
      "Effect of \"balanceClasses\" on Lesion Classification\n",
      "\n",
      "             model balanceClasses        f1\n",
      "15       Seg_Model           TRUE  0.698483\n",
      "7   AE_InceptionV3           TRUE  0.618703\n",
      "14       Seg_Model          FALSE  0.603410\n",
      "11     AE_Xception           TRUE  0.589197\n",
      "3          AE_FCN8           TRUE  0.582824\n",
      "1         AE_FCN16           TRUE  0.577522\n",
      "9      AE_ResNet50           TRUE  0.555180\n",
      "6   AE_InceptionV3          FALSE  0.547268\n",
      "10     AE_Xception          FALSE  0.485206\n",
      "13   DeepLabV3Plus           TRUE  0.479189\n",
      "2          AE_FCN8          FALSE  0.406423\n",
      "5     AE_Inception           TRUE  0.395086\n",
      "8      AE_ResNet50          FALSE  0.252259\n",
      "0         AE_FCN16          FALSE  0.240064\n",
      "12   DeepLabV3Plus          FALSE  0.225510\n",
      "4     AE_Inception          FALSE  0.136026\n",
      "\n",
      "Effect of \"elasticDeform\" on Lesion Classification\n",
      "\n",
      "             model elasticDeform        f1\n",
      "15       Seg_Model          TRUE  0.697685\n",
      "14       Seg_Model         FALSE  0.678046\n",
      "7   AE_InceptionV3          TRUE  0.612695\n",
      "6   AE_InceptionV3         FALSE  0.588063\n",
      "11     AE_Xception          TRUE  0.572370\n",
      "1         AE_FCN16          TRUE  0.571180\n",
      "3          AE_FCN8          TRUE  0.567975\n",
      "9      AE_ResNet50          TRUE  0.559030\n",
      "10     AE_Xception         FALSE  0.558105\n",
      "2          AE_FCN8         FALSE  0.504275\n",
      "13   DeepLabV3Plus          TRUE  0.467898\n",
      "0         AE_FCN16         FALSE  0.441181\n",
      "8      AE_ResNet50         FALSE  0.437948\n",
      "5     AE_Inception          TRUE  0.395086\n",
      "12   DeepLabV3Plus         FALSE  0.336014\n",
      "4     AE_Inception         FALSE  0.136026\n",
      "\n"
     ]
    }
   ],
   "source": [
    "for param in parameters:\n",
    "    print(f'Effect of \"{param}\" on Lesion Classification\\n'.split('=')[0])\n",
    "    print(f1_group(lesions, param))\n",
    "    print()"
   ]
  },
  {
   "cell_type": "markdown",
   "id": "006f53e5",
   "metadata": {},
   "source": [
    "We can see that for \"dropoutFraction\", the models that have both 0.0 and 0.2 all performed better with a dropoutFraction of 0\n",
    "\n",
    "\"augmentColor\" set to FALSE with the Seg_Model model gives the overall best result, but for some other model TRUE outperforms FALSE\n",
    "\n",
    "\"augmentGeometry\" provides a significant improvement for the top performing models when set to TRUE\n",
    "\n",
    "Likewise, \"elasticDeform\" provides a signifcant improvement for the top performing models when set to TRUE        \n",
    "\n"
   ]
  },
  {
   "cell_type": "markdown",
   "id": "b4fca58c",
   "metadata": {},
   "source": [
    "# Parameter effect on Tissue Classification"
   ]
  },
  {
   "cell_type": "code",
   "execution_count": 29,
   "id": "a4e601bf",
   "metadata": {},
   "outputs": [
    {
     "name": "stdout",
     "output_type": "stream",
     "text": [
      "Effect of \"dropoutFraction\" on Tissue Classification\n",
      "\n",
      "            model dropoutFraction        f1\n",
      "2         AE_FCN8               0  0.967286\n",
      "5  AE_InceptionV3               0  0.963223\n",
      "6  AE_InceptionV3             0.2  0.962203\n",
      "0        AE_FCN16               0  0.962165\n",
      "8     AE_Xception             0.2  0.960235\n",
      "3         AE_FCN8             0.2  0.958992\n",
      "1        AE_FCN16             0.2  0.958715\n",
      "4    AE_Inception             0.2  0.956204\n",
      "7     AE_ResNet50             0.2  0.953572\n",
      "9   DeepLabV3Plus             0.2  0.950674\n",
      "\n",
      "Effect of \"augmentColor\" on Tissue Classification\n",
      "\n",
      "             model augmentColor        f1\n",
      "14       Seg_Model        FALSE  0.969611\n",
      "15       Seg_Model         TRUE  0.967337\n",
      "7   AE_InceptionV3         TRUE  0.963609\n",
      "11     AE_Xception         TRUE  0.963103\n",
      "6   AE_InceptionV3        FALSE  0.961291\n",
      "1         AE_FCN16         TRUE  0.961122\n",
      "10     AE_Xception        FALSE  0.960708\n",
      "3          AE_FCN8         TRUE  0.959982\n",
      "4     AE_Inception        FALSE  0.959272\n",
      "2          AE_FCN8        FALSE  0.958458\n",
      "0         AE_FCN16        FALSE  0.956034\n",
      "8      AE_ResNet50        FALSE  0.955463\n",
      "9      AE_ResNet50         TRUE  0.954544\n",
      "5     AE_Inception         TRUE  0.953135\n",
      "12   DeepLabV3Plus        FALSE  0.951479\n",
      "13   DeepLabV3Plus         TRUE  0.947857\n",
      "\n",
      "Effect of \"augmentGeometry\" on Tissue Classification\n",
      "\n",
      "             model augmentGeometry        f1\n",
      "15       Seg_Model            TRUE  0.970749\n",
      "14       Seg_Model           FALSE  0.965249\n",
      "7   AE_InceptionV3            TRUE  0.963862\n",
      "11     AE_Xception            TRUE  0.963012\n",
      "6   AE_InceptionV3           FALSE  0.961323\n",
      "10     AE_Xception           FALSE  0.960970\n",
      "3          AE_FCN8            TRUE  0.959658\n",
      "0         AE_FCN16           FALSE  0.959315\n",
      "2          AE_FCN8           FALSE  0.958802\n",
      "1         AE_FCN16            TRUE  0.958689\n",
      "8      AE_ResNet50           FALSE  0.957496\n",
      "4     AE_Inception           FALSE  0.957415\n",
      "5     AE_Inception            TRUE  0.952570\n",
      "9      AE_ResNet50            TRUE  0.951658\n",
      "12   DeepLabV3Plus           FALSE  0.950823\n",
      "13   DeepLabV3Plus            TRUE  0.950488\n",
      "\n",
      "Effect of \"balanceClasses\" on Tissue Classification\n",
      "\n",
      "             model balanceClasses        f1\n",
      "15       Seg_Model           TRUE  0.969909\n",
      "14       Seg_Model          FALSE  0.963894\n",
      "11     AE_Xception           TRUE  0.963619\n",
      "7   AE_InceptionV3           TRUE  0.962859\n",
      "3          AE_FCN8           TRUE  0.961516\n",
      "5     AE_Inception           TRUE  0.961513\n",
      "1         AE_FCN16           TRUE  0.961504\n",
      "6   AE_InceptionV3          FALSE  0.960371\n",
      "9      AE_ResNet50           TRUE  0.957454\n",
      "10     AE_Xception          FALSE  0.957108\n",
      "4     AE_Inception          FALSE  0.954434\n",
      "2          AE_FCN8          FALSE  0.954016\n",
      "13   DeepLabV3Plus           TRUE  0.953759\n",
      "0         AE_FCN16          FALSE  0.952928\n",
      "8      AE_ResNet50          FALSE  0.948130\n",
      "12   DeepLabV3Plus          FALSE  0.944505\n",
      "\n",
      "Effect of \"elasticDeform\" on Tissue Classification\n",
      "\n",
      "             model elasticDeform        f1\n",
      "15       Seg_Model          TRUE  0.969237\n",
      "14       Seg_Model         FALSE  0.968796\n",
      "11     AE_Xception          TRUE  0.963216\n",
      "6   AE_InceptionV3         FALSE  0.962448\n",
      "7   AE_InceptionV3          TRUE  0.962084\n",
      "1         AE_FCN16          TRUE  0.961837\n",
      "5     AE_Inception          TRUE  0.961513\n",
      "10     AE_Xception         FALSE  0.961311\n",
      "3          AE_FCN8          TRUE  0.960344\n",
      "2          AE_FCN8         FALSE  0.958528\n",
      "0         AE_FCN16         FALSE  0.957835\n",
      "9      AE_ResNet50          TRUE  0.957075\n",
      "4     AE_Inception         FALSE  0.954434\n",
      "8      AE_ResNet50         FALSE  0.954083\n",
      "13   DeepLabV3Plus          TRUE  0.951396\n",
      "12   DeepLabV3Plus         FALSE  0.950097\n",
      "\n"
     ]
    }
   ],
   "source": [
    "for param in parameters:\n",
    "    print(f'Effect of \"{param}\" on Tissue Classification\\n'.split('=')[0])\n",
    "    print(f1_group(tissue, param))\n",
    "    print()"
   ]
  },
  {
   "cell_type": "code",
   "execution_count": null,
   "id": "e4a9a150",
   "metadata": {},
   "outputs": [],
   "source": []
  }
 ],
 "metadata": {
  "kernelspec": {
   "display_name": "Python 3 (ipykernel)",
   "language": "python",
   "name": "python3"
  },
  "language_info": {
   "codemirror_mode": {
    "name": "ipython",
    "version": 3
   },
   "file_extension": ".py",
   "mimetype": "text/x-python",
   "name": "python",
   "nbconvert_exporter": "python",
   "pygments_lexer": "ipython3",
   "version": "3.9.7"
  }
 },
 "nbformat": 4,
 "nbformat_minor": 5
}